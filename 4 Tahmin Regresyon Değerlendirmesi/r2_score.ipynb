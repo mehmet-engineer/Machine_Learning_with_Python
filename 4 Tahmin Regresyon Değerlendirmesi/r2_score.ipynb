{
 "cells": [
  {
   "cell_type": "code",
   "execution_count": 1,
   "id": "brief-investor",
   "metadata": {},
   "outputs": [],
   "source": [
    "from sklearn.metrics import r2_score"
   ]
  },
  {
   "cell_type": "code",
   "execution_count": 2,
   "id": "useful-combination",
   "metadata": {},
   "outputs": [],
   "source": [
    "y_test = [12,15,10.5,14,16.8,21.2,30.8]\n",
    "y_tahmin = [12,14.2,14,15,16.6,21,28.2]"
   ]
  },
  {
   "cell_type": "code",
   "execution_count": 3,
   "id": "extended-technician",
   "metadata": {},
   "outputs": [
    {
     "data": {
      "text/plain": [
       "0.9280529525509444"
      ]
     },
     "execution_count": 3,
     "metadata": {},
     "output_type": "execute_result"
    }
   ],
   "source": [
    "r2 = r2_score(y_test,y_tahmin)\n",
    "r2"
   ]
  },
  {
   "cell_type": "code",
   "execution_count": 5,
   "id": "little-lying",
   "metadata": {},
   "outputs": [
    {
     "data": {
      "text/plain": [
       "92.80529525509445"
      ]
     },
     "execution_count": 5,
     "metadata": {},
     "output_type": "execute_result"
    }
   ],
   "source": [
    "accuracy = r2*100\n",
    "accuracy  # %92.8 doğruluk"
   ]
  },
  {
   "cell_type": "code",
   "execution_count": null,
   "id": "still-hughes",
   "metadata": {},
   "outputs": [],
   "source": []
  }
 ],
 "metadata": {
  "kernelspec": {
   "display_name": "Python 3",
   "language": "python",
   "name": "python3"
  },
  "language_info": {
   "codemirror_mode": {
    "name": "ipython",
    "version": 3
   },
   "file_extension": ".py",
   "mimetype": "text/x-python",
   "name": "python",
   "nbconvert_exporter": "python",
   "pygments_lexer": "ipython3",
   "version": "3.8.8"
  }
 },
 "nbformat": 4,
 "nbformat_minor": 5
}
