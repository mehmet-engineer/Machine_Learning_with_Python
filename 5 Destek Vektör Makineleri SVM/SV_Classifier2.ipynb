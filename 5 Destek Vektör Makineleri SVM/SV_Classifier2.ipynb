{
 "cells": [
  {
   "cell_type": "code",
   "execution_count": 11,
   "id": "configured-visit",
   "metadata": {},
   "outputs": [],
   "source": [
    "import pandas as pd\n",
    "import numpy as np\n",
    "from sklearn import datasets, svm, metrics"
   ]
  },
  {
   "cell_type": "code",
   "execution_count": 12,
   "id": "photographic-poison",
   "metadata": {},
   "outputs": [
    {
     "data": {
      "text/plain": [
       "1797"
      ]
     },
     "execution_count": 12,
     "metadata": {},
     "output_type": "execute_result"
    }
   ],
   "source": [
    "#Digits verisetinin çekilmesi\n",
    "df = datasets.load_digits()\n",
    "n_samples = len(datasets.load_digits().images)\n",
    "n_samples"
   ]
  },
  {
   "cell_type": "code",
   "execution_count": 13,
   "id": "talented-store",
   "metadata": {},
   "outputs": [
    {
     "data": {
      "text/plain": [
       "array([[ 0.,  0.,  5., ...,  0.,  0.,  0.],\n",
       "       [ 0.,  0.,  0., ..., 10.,  0.,  0.],\n",
       "       [ 0.,  0.,  0., ..., 16.,  9.,  0.],\n",
       "       ...,\n",
       "       [ 0.,  0.,  1., ...,  6.,  0.,  0.],\n",
       "       [ 0.,  0.,  2., ..., 12.,  0.,  0.],\n",
       "       [ 0.,  0., 10., ..., 12.,  1.,  0.]])"
      ]
     },
     "execution_count": 13,
     "metadata": {},
     "output_type": "execute_result"
    }
   ],
   "source": [
    "data = datasets.load_digits().images.reshape((n_samples, -1))\n",
    "data"
   ]
  },
  {
   "cell_type": "code",
   "execution_count": 14,
   "id": "adjacent-watch",
   "metadata": {},
   "outputs": [
    {
     "data": {
      "text/plain": [
       "array([0, 1, 2, ..., 8, 9, 8])"
      ]
     },
     "execution_count": 14,
     "metadata": {},
     "output_type": "execute_result"
    }
   ],
   "source": [
    "X = data\n",
    "Y = df.target\n",
    "Y"
   ]
  },
  {
   "cell_type": "code",
   "execution_count": 15,
   "id": "cellular-average",
   "metadata": {},
   "outputs": [],
   "source": [
    "from sklearn.model_selection import train_test_split\n",
    "x_train, x_test, y_train, y_test = train_test_split(X,Y,test_size=0.33)"
   ]
  },
  {
   "cell_type": "code",
   "execution_count": 18,
   "id": "finnish-spectrum",
   "metadata": {},
   "outputs": [
    {
     "data": {
      "text/plain": [
       "SVC(gamma='auto', kernel='poly')"
      ]
     },
     "execution_count": 18,
     "metadata": {},
     "output_type": "execute_result"
    }
   ],
   "source": [
    "model = svm.SVC(kernel=\"poly\",degree=3,gamma=\"auto\")\n",
    "model.fit(x_train,y_train)"
   ]
  },
  {
   "cell_type": "code",
   "execution_count": 20,
   "id": "flying-quest",
   "metadata": {},
   "outputs": [
    {
     "data": {
      "text/plain": [
       "array([4, 2, 4, 3, 6, 4, 9, 2, 2, 8, 0, 8, 6, 3, 1, 0, 5, 0, 5, 9, 3, 8,\n",
       "       0, 8, 1, 1, 7, 1, 2, 0, 7, 9, 5, 2, 4, 5, 0, 7, 3, 2, 0, 7, 5, 2,\n",
       "       2, 1, 4, 4, 4, 5, 5, 4, 7, 7, 4, 4, 5, 2, 5, 9, 5, 1, 5, 0, 1, 5,\n",
       "       2, 9, 7, 3, 9, 1, 0, 1, 8, 5, 3, 3, 7, 6, 3, 7, 4, 8, 8, 1, 7, 4,\n",
       "       8, 0, 9, 3, 7, 1, 8, 3, 2, 9, 3, 3, 1, 9, 1, 6, 5, 6, 7, 1, 6, 9,\n",
       "       6, 6, 3, 3, 9, 3, 4, 9, 8, 1, 3, 3, 2, 2, 1, 5, 4, 2, 1, 6, 5, 5,\n",
       "       4, 9, 5, 7, 0, 4, 7, 2, 2, 9, 2, 9, 1, 5, 1, 8, 7, 6, 1, 0, 8, 8,\n",
       "       2, 5, 1, 4, 8, 3, 2, 9, 1, 2, 6, 0, 7, 9, 5, 3, 9, 1, 8, 1, 9, 7,\n",
       "       8, 0, 1, 1, 5, 0, 3, 3, 5, 0, 4, 8, 6, 8, 5, 5, 5, 1, 6, 3, 5, 7,\n",
       "       1, 0, 7, 9, 2, 9, 9, 5, 8, 2, 7, 5, 8, 5, 9, 4, 3, 6, 7, 0, 2, 1,\n",
       "       2, 7, 1, 2, 8, 4, 7, 7, 0, 6, 4, 8, 9, 3, 2, 4, 8, 3, 0, 9, 4, 0,\n",
       "       5, 8, 1, 7, 3, 9, 4, 5, 7, 1, 4, 8, 7, 1, 7, 2, 1, 7, 2, 6, 5, 3,\n",
       "       6, 7, 5, 2, 4, 0, 9, 2, 6, 4, 5, 5, 8, 6, 1, 6, 4, 3, 1, 8, 9, 3,\n",
       "       9, 9, 4, 3, 9, 6, 2, 9, 5, 7, 2, 9, 6, 6, 6, 3, 7, 7, 2, 2, 2, 6,\n",
       "       4, 1, 7, 5, 0, 9, 3, 8, 9, 2, 9, 8, 4, 6, 8, 4, 5, 0, 6, 4, 4, 5,\n",
       "       7, 8, 9, 7, 9, 3, 0, 0, 0, 2, 8, 8, 5, 8, 4, 5, 9, 4, 4, 5, 4, 7,\n",
       "       5, 8, 9, 1, 3, 5, 7, 2, 9, 2, 8, 2, 3, 5, 8, 9, 1, 8, 1, 6, 2, 1,\n",
       "       2, 6, 1, 6, 4, 7, 2, 5, 3, 0, 9, 2, 9, 4, 9, 8, 2, 0, 2, 0, 9, 1,\n",
       "       8, 1, 4, 7, 6, 1, 7, 0, 2, 9, 0, 3, 8, 2, 1, 3, 7, 7, 7, 8, 9, 8,\n",
       "       3, 3, 9, 2, 4, 4, 4, 7, 6, 0, 2, 3, 3, 6, 2, 7, 2, 6, 9, 1, 7, 4,\n",
       "       8, 7, 0, 0, 3, 1, 6, 2, 0, 3, 9, 8, 4, 3, 6, 5, 4, 8, 2, 3, 0, 5,\n",
       "       2, 4, 4, 8, 4, 1, 3, 8, 8, 7, 9, 7, 5, 3, 8, 4, 8, 9, 0, 2, 3, 0,\n",
       "       9, 9, 4, 0, 1, 3, 0, 6, 2, 7, 6, 9, 7, 7, 8, 5, 0, 4, 1, 0, 0, 6,\n",
       "       1, 6, 3, 3, 8, 4, 5, 8, 5, 2, 6, 2, 1, 0, 6, 1, 0, 2, 1, 2, 3, 4,\n",
       "       9, 5, 3, 2, 6, 3, 7, 6, 3, 3, 3, 4, 5, 8, 2, 9, 0, 4, 8, 6, 0, 1,\n",
       "       6, 9, 2, 1, 4, 0, 3, 9, 7, 3, 0, 6, 3, 4, 6, 7, 0, 7, 5, 3, 2, 1,\n",
       "       1, 9, 3, 1, 6, 2, 3, 9, 9, 0, 3, 3, 5, 8, 5, 9, 4, 0, 2, 2, 5, 0])"
      ]
     },
     "execution_count": 20,
     "metadata": {},
     "output_type": "execute_result"
    }
   ],
   "source": [
    "y_predicted = model.predict(x_test)\n",
    "y_predicted"
   ]
  },
  {
   "cell_type": "code",
   "execution_count": 21,
   "id": "related-compact",
   "metadata": {},
   "outputs": [
    {
     "data": {
      "text/plain": [
       "0.9704139861156544"
      ]
     },
     "execution_count": 21,
     "metadata": {},
     "output_type": "execute_result"
    }
   ],
   "source": [
    "r2 = metrics.r2_score(y_test,y_predicted)\n",
    "r2"
   ]
  },
  {
   "cell_type": "code",
   "execution_count": 22,
   "id": "bulgarian-supplement",
   "metadata": {},
   "outputs": [
    {
     "data": {
      "text/plain": [
       "0.9814814814814815"
      ]
     },
     "execution_count": 22,
     "metadata": {},
     "output_type": "execute_result"
    }
   ],
   "source": [
    "acc = metrics.accuracy_score(y_test,y_predicted)\n",
    "acc"
   ]
  },
  {
   "cell_type": "code",
   "execution_count": null,
   "id": "promotional-consumer",
   "metadata": {},
   "outputs": [],
   "source": []
  }
 ],
 "metadata": {
  "kernelspec": {
   "display_name": "Python 3",
   "language": "python",
   "name": "python3"
  },
  "language_info": {
   "codemirror_mode": {
    "name": "ipython",
    "version": 3
   },
   "file_extension": ".py",
   "mimetype": "text/x-python",
   "name": "python",
   "nbconvert_exporter": "python",
   "pygments_lexer": "ipython3",
   "version": "3.8.8"
  }
 },
 "nbformat": 4,
 "nbformat_minor": 5
}
