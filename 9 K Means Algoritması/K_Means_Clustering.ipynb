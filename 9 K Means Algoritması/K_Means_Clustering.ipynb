{
 "cells": [
  {
   "cell_type": "code",
   "execution_count": 219,
   "id": "useful-graham",
   "metadata": {},
   "outputs": [],
   "source": [
    "import numpy as np\n",
    "import pandas as pd\n",
    "import matplotlib.pyplot as plt"
   ]
  },
  {
   "cell_type": "code",
   "execution_count": 220,
   "id": "addressed-pixel",
   "metadata": {
    "scrolled": true
   },
   "outputs": [
    {
     "data": {
      "text/html": [
       "<div>\n",
       "<style scoped>\n",
       "    .dataframe tbody tr th:only-of-type {\n",
       "        vertical-align: middle;\n",
       "    }\n",
       "\n",
       "    .dataframe tbody tr th {\n",
       "        vertical-align: top;\n",
       "    }\n",
       "\n",
       "    .dataframe thead th {\n",
       "        text-align: right;\n",
       "    }\n",
       "</style>\n",
       "<table border=\"1\" class=\"dataframe\">\n",
       "  <thead>\n",
       "    <tr style=\"text-align: right;\">\n",
       "      <th></th>\n",
       "      <th>No</th>\n",
       "      <th>Cinsiyet</th>\n",
       "      <th>Yas</th>\n",
       "      <th>Hacim</th>\n",
       "      <th>Maas</th>\n",
       "    </tr>\n",
       "  </thead>\n",
       "  <tbody>\n",
       "    <tr>\n",
       "      <th>0</th>\n",
       "      <td>1</td>\n",
       "      <td>K</td>\n",
       "      <td>60</td>\n",
       "      <td>69900</td>\n",
       "      <td>6325</td>\n",
       "    </tr>\n",
       "    <tr>\n",
       "      <th>1</th>\n",
       "      <td>2</td>\n",
       "      <td>K</td>\n",
       "      <td>30</td>\n",
       "      <td>79000</td>\n",
       "      <td>5200</td>\n",
       "    </tr>\n",
       "    <tr>\n",
       "      <th>2</th>\n",
       "      <td>3</td>\n",
       "      <td>E</td>\n",
       "      <td>52</td>\n",
       "      <td>85500</td>\n",
       "      <td>7825</td>\n",
       "    </tr>\n",
       "    <tr>\n",
       "      <th>3</th>\n",
       "      <td>4</td>\n",
       "      <td>E</td>\n",
       "      <td>57</td>\n",
       "      <td>17100</td>\n",
       "      <td>8375</td>\n",
       "    </tr>\n",
       "    <tr>\n",
       "      <th>4</th>\n",
       "      <td>5</td>\n",
       "      <td>E</td>\n",
       "      <td>55</td>\n",
       "      <td>5500</td>\n",
       "      <td>5450</td>\n",
       "    </tr>\n",
       "    <tr>\n",
       "      <th>...</th>\n",
       "      <td>...</td>\n",
       "      <td>...</td>\n",
       "      <td>...</td>\n",
       "      <td>...</td>\n",
       "      <td>...</td>\n",
       "    </tr>\n",
       "    <tr>\n",
       "      <th>195</th>\n",
       "      <td>196</td>\n",
       "      <td>E</td>\n",
       "      <td>22</td>\n",
       "      <td>96600</td>\n",
       "      <td>7900</td>\n",
       "    </tr>\n",
       "    <tr>\n",
       "      <th>196</th>\n",
       "      <td>197</td>\n",
       "      <td>E</td>\n",
       "      <td>39</td>\n",
       "      <td>83700</td>\n",
       "      <td>7675</td>\n",
       "    </tr>\n",
       "    <tr>\n",
       "      <th>197</th>\n",
       "      <td>198</td>\n",
       "      <td>K</td>\n",
       "      <td>25</td>\n",
       "      <td>34000</td>\n",
       "      <td>4000</td>\n",
       "    </tr>\n",
       "    <tr>\n",
       "      <th>198</th>\n",
       "      <td>199</td>\n",
       "      <td>K</td>\n",
       "      <td>30</td>\n",
       "      <td>42000</td>\n",
       "      <td>5500</td>\n",
       "    </tr>\n",
       "    <tr>\n",
       "      <th>199</th>\n",
       "      <td>200</td>\n",
       "      <td>K</td>\n",
       "      <td>23</td>\n",
       "      <td>47600</td>\n",
       "      <td>4150</td>\n",
       "    </tr>\n",
       "  </tbody>\n",
       "</table>\n",
       "<p>200 rows × 5 columns</p>\n",
       "</div>"
      ],
      "text/plain": [
       "      No Cinsiyet  Yas  Hacim  Maas\n",
       "0      1        K   60  69900  6325\n",
       "1      2        K   30  79000  5200\n",
       "2      3        E   52  85500  7825\n",
       "3      4        E   57  17100  8375\n",
       "4      5        E   55   5500  5450\n",
       "..   ...      ...  ...    ...   ...\n",
       "195  196        E   22  96600  7900\n",
       "196  197        E   39  83700  7675\n",
       "197  198        K   25  34000  4000\n",
       "198  199        K   30  42000  5500\n",
       "199  200        K   23  47600  4150\n",
       "\n",
       "[200 rows x 5 columns]"
      ]
     },
     "execution_count": 220,
     "metadata": {},
     "output_type": "execute_result"
    }
   ],
   "source": [
    "data = pd.read_csv(\"musteriler.csv\")\n",
    "data"
   ]
  },
  {
   "cell_type": "code",
   "execution_count": 221,
   "id": "modified-substance",
   "metadata": {},
   "outputs": [],
   "source": [
    "data = data.drop(\"No\",axis=1)\n",
    "cinsiyet_kolonu = data[\"Cinsiyet\"].values\n",
    "data = data.drop(\"Cinsiyet\",axis=1)"
   ]
  },
  {
   "cell_type": "code",
   "execution_count": 222,
   "id": "needed-crystal",
   "metadata": {},
   "outputs": [
    {
     "data": {
      "text/plain": [
       "array([1, 1, 0, 0, 0, 0, 0, 0, 1, 0, 1, 0, 0, 0, 1, 1, 0, 1, 1, 0, 1, 1,\n",
       "       0, 1, 0, 1, 0, 1, 0, 0, 1, 0, 1, 1, 0, 0, 0, 0, 0, 0, 0, 1, 1, 0,\n",
       "       0, 0, 0, 0, 0, 0, 0, 1, 0, 1, 0, 1, 0, 1, 0, 1, 1, 1, 0, 0, 1, 1,\n",
       "       0, 0, 1, 0, 1, 0, 0, 0, 1, 1, 0, 1, 0, 0, 1, 1, 1, 0, 0, 1, 0, 0,\n",
       "       0, 0, 0, 1, 1, 0, 0, 1, 0, 0, 1, 1, 0, 0, 1, 1, 1, 0, 0, 1, 1, 1,\n",
       "       1, 0, 0, 1, 0, 0, 0, 0, 0, 0, 1, 0, 0, 1, 0, 0, 1, 1, 1, 1, 1, 1,\n",
       "       0, 0, 1, 0, 0, 1, 1, 0, 0, 1, 0, 0, 1, 1, 1, 0, 0, 1, 1, 1, 0, 0,\n",
       "       0, 0, 1, 0, 1, 0, 0, 0, 1, 0, 1, 0, 1, 0, 0, 1, 1, 1, 1, 1, 0, 0,\n",
       "       1, 1, 1, 1, 0, 0, 1, 0, 0, 1, 0, 1, 0, 0, 0, 0, 1, 0, 0, 0, 0, 1,\n",
       "       1, 1])"
      ]
     },
     "execution_count": 222,
     "metadata": {},
     "output_type": "execute_result"
    }
   ],
   "source": [
    "from sklearn import preprocessing\n",
    "encoder = preprocessing.LabelEncoder()\n",
    "encoder.fit(cinsiyet_kolonu)\n",
    "cinsiyet_encoded = encoder.transform(cinsiyet_kolonu)\n",
    "cinsiyet_encoded   # K=1 , E=0"
   ]
  },
  {
   "cell_type": "code",
   "execution_count": 223,
   "id": "passing-pleasure",
   "metadata": {},
   "outputs": [
    {
     "data": {
      "text/html": [
       "<div>\n",
       "<style scoped>\n",
       "    .dataframe tbody tr th:only-of-type {\n",
       "        vertical-align: middle;\n",
       "    }\n",
       "\n",
       "    .dataframe tbody tr th {\n",
       "        vertical-align: top;\n",
       "    }\n",
       "\n",
       "    .dataframe thead th {\n",
       "        text-align: right;\n",
       "    }\n",
       "</style>\n",
       "<table border=\"1\" class=\"dataframe\">\n",
       "  <thead>\n",
       "    <tr style=\"text-align: right;\">\n",
       "      <th></th>\n",
       "      <th>Yas</th>\n",
       "      <th>Hacim</th>\n",
       "      <th>Maas</th>\n",
       "      <th>Cinsiyet</th>\n",
       "    </tr>\n",
       "  </thead>\n",
       "  <tbody>\n",
       "    <tr>\n",
       "      <th>0</th>\n",
       "      <td>60</td>\n",
       "      <td>69900</td>\n",
       "      <td>6325</td>\n",
       "      <td>1</td>\n",
       "    </tr>\n",
       "    <tr>\n",
       "      <th>1</th>\n",
       "      <td>30</td>\n",
       "      <td>79000</td>\n",
       "      <td>5200</td>\n",
       "      <td>1</td>\n",
       "    </tr>\n",
       "    <tr>\n",
       "      <th>2</th>\n",
       "      <td>52</td>\n",
       "      <td>85500</td>\n",
       "      <td>7825</td>\n",
       "      <td>0</td>\n",
       "    </tr>\n",
       "    <tr>\n",
       "      <th>3</th>\n",
       "      <td>57</td>\n",
       "      <td>17100</td>\n",
       "      <td>8375</td>\n",
       "      <td>0</td>\n",
       "    </tr>\n",
       "    <tr>\n",
       "      <th>4</th>\n",
       "      <td>55</td>\n",
       "      <td>5500</td>\n",
       "      <td>5450</td>\n",
       "      <td>0</td>\n",
       "    </tr>\n",
       "    <tr>\n",
       "      <th>...</th>\n",
       "      <td>...</td>\n",
       "      <td>...</td>\n",
       "      <td>...</td>\n",
       "      <td>...</td>\n",
       "    </tr>\n",
       "    <tr>\n",
       "      <th>195</th>\n",
       "      <td>22</td>\n",
       "      <td>96600</td>\n",
       "      <td>7900</td>\n",
       "      <td>0</td>\n",
       "    </tr>\n",
       "    <tr>\n",
       "      <th>196</th>\n",
       "      <td>39</td>\n",
       "      <td>83700</td>\n",
       "      <td>7675</td>\n",
       "      <td>0</td>\n",
       "    </tr>\n",
       "    <tr>\n",
       "      <th>197</th>\n",
       "      <td>25</td>\n",
       "      <td>34000</td>\n",
       "      <td>4000</td>\n",
       "      <td>1</td>\n",
       "    </tr>\n",
       "    <tr>\n",
       "      <th>198</th>\n",
       "      <td>30</td>\n",
       "      <td>42000</td>\n",
       "      <td>5500</td>\n",
       "      <td>1</td>\n",
       "    </tr>\n",
       "    <tr>\n",
       "      <th>199</th>\n",
       "      <td>23</td>\n",
       "      <td>47600</td>\n",
       "      <td>4150</td>\n",
       "      <td>1</td>\n",
       "    </tr>\n",
       "  </tbody>\n",
       "</table>\n",
       "<p>200 rows × 4 columns</p>\n",
       "</div>"
      ],
      "text/plain": [
       "     Yas  Hacim  Maas  Cinsiyet\n",
       "0     60  69900  6325         1\n",
       "1     30  79000  5200         1\n",
       "2     52  85500  7825         0\n",
       "3     57  17100  8375         0\n",
       "4     55   5500  5450         0\n",
       "..   ...    ...   ...       ...\n",
       "195   22  96600  7900         0\n",
       "196   39  83700  7675         0\n",
       "197   25  34000  4000         1\n",
       "198   30  42000  5500         1\n",
       "199   23  47600  4150         1\n",
       "\n",
       "[200 rows x 4 columns]"
      ]
     },
     "execution_count": 223,
     "metadata": {},
     "output_type": "execute_result"
    }
   ],
   "source": [
    "cinsiyet_serisi = pd.Series(cinsiyet_encoded, name=\"Cinsiyet\")\n",
    "dataframe = pd.concat([data,cinsiyet_serisi],axis=1)\n",
    "dataframe"
   ]
  },
  {
   "cell_type": "code",
   "execution_count": 224,
   "id": "continued-nature",
   "metadata": {},
   "outputs": [],
   "source": [
    "X_23 = data[[\"Hacim\",\"Maas\"]].values"
   ]
  },
  {
   "cell_type": "code",
   "execution_count": 225,
   "id": "sunset-soundtrack",
   "metadata": {},
   "outputs": [
    {
     "data": {
      "text/plain": [
       "KMeans(n_clusters=3)"
      ]
     },
     "execution_count": 225,
     "metadata": {},
     "output_type": "execute_result"
    }
   ],
   "source": [
    "from sklearn.cluster import KMeans\n",
    "k_means = KMeans(n_clusters=3, init=\"k-means++\")\n",
    "k_means.fit(X_23)"
   ]
  },
  {
   "cell_type": "code",
   "execution_count": 226,
   "id": "detected-employer",
   "metadata": {},
   "outputs": [
    {
     "data": {
      "text/plain": [
       "array([[ 58911.76470588,   5865.44117647],\n",
       "       [104386.95652174,   7289.13043478],\n",
       "       [ 22282.55813953,   5310.75581395]])"
      ]
     },
     "execution_count": 226,
     "metadata": {},
     "output_type": "execute_result"
    }
   ],
   "source": [
    "k_means.cluster_centers_    # 3 tane küme merkez koordinatı"
   ]
  },
  {
   "cell_type": "code",
   "execution_count": 227,
   "id": "sexual-commonwealth",
   "metadata": {},
   "outputs": [
    {
     "data": {
      "text/plain": [
       "Text(0, 0.5, 'Maas')"
      ]
     },
     "execution_count": 227,
     "metadata": {},
     "output_type": "execute_result"
    },
    {
     "data": {
      "image/png": "[encoded data removed]",
      "text/plain": [
       "<Figure size 432x288 with 1 Axes>"
      ]
     },
     "metadata": {
      "needs_background": "light"
     },
     "output_type": "display_data"
    }
   ],
   "source": [
    "plt.scatter(data[\"Hacim\"],data[\"Maas\"])\n",
    "plt.xlabel(\"Hacim\")\n",
    "plt.ylabel(\"Maas\")"
   ]
  },
  {
   "cell_type": "code",
   "execution_count": 228,
   "id": "seventh-trail",
   "metadata": {},
   "outputs": [
    {
     "data": {
      "text/html": [
       "<div>\n",
       "<style scoped>\n",
       "    .dataframe tbody tr th:only-of-type {\n",
       "        vertical-align: middle;\n",
       "    }\n",
       "\n",
       "    .dataframe tbody tr th {\n",
       "        vertical-align: top;\n",
       "    }\n",
       "\n",
       "    .dataframe thead th {\n",
       "        text-align: right;\n",
       "    }\n",
       "</style>\n",
       "<table border=\"1\" class=\"dataframe\">\n",
       "  <thead>\n",
       "    <tr style=\"text-align: right;\">\n",
       "      <th></th>\n",
       "      <th>Yas</th>\n",
       "      <th>Hacim</th>\n",
       "      <th>Maas</th>\n",
       "      <th>Kume_Tahmin1</th>\n",
       "    </tr>\n",
       "  </thead>\n",
       "  <tbody>\n",
       "    <tr>\n",
       "      <th>0</th>\n",
       "      <td>60</td>\n",
       "      <td>69900</td>\n",
       "      <td>6325</td>\n",
       "      <td>0</td>\n",
       "    </tr>\n",
       "    <tr>\n",
       "      <th>1</th>\n",
       "      <td>30</td>\n",
       "      <td>79000</td>\n",
       "      <td>5200</td>\n",
       "      <td>0</td>\n",
       "    </tr>\n",
       "    <tr>\n",
       "      <th>2</th>\n",
       "      <td>52</td>\n",
       "      <td>85500</td>\n",
       "      <td>7825</td>\n",
       "      <td>1</td>\n",
       "    </tr>\n",
       "    <tr>\n",
       "      <th>3</th>\n",
       "      <td>57</td>\n",
       "      <td>17100</td>\n",
       "      <td>8375</td>\n",
       "      <td>2</td>\n",
       "    </tr>\n",
       "    <tr>\n",
       "      <th>4</th>\n",
       "      <td>55</td>\n",
       "      <td>5500</td>\n",
       "      <td>5450</td>\n",
       "      <td>2</td>\n",
       "    </tr>\n",
       "    <tr>\n",
       "      <th>...</th>\n",
       "      <td>...</td>\n",
       "      <td>...</td>\n",
       "      <td>...</td>\n",
       "      <td>...</td>\n",
       "    </tr>\n",
       "    <tr>\n",
       "      <th>195</th>\n",
       "      <td>22</td>\n",
       "      <td>96600</td>\n",
       "      <td>7900</td>\n",
       "      <td>1</td>\n",
       "    </tr>\n",
       "    <tr>\n",
       "      <th>196</th>\n",
       "      <td>39</td>\n",
       "      <td>83700</td>\n",
       "      <td>7675</td>\n",
       "      <td>1</td>\n",
       "    </tr>\n",
       "    <tr>\n",
       "      <th>197</th>\n",
       "      <td>25</td>\n",
       "      <td>34000</td>\n",
       "      <td>4000</td>\n",
       "      <td>2</td>\n",
       "    </tr>\n",
       "    <tr>\n",
       "      <th>198</th>\n",
       "      <td>30</td>\n",
       "      <td>42000</td>\n",
       "      <td>5500</td>\n",
       "      <td>0</td>\n",
       "    </tr>\n",
       "    <tr>\n",
       "      <th>199</th>\n",
       "      <td>23</td>\n",
       "      <td>47600</td>\n",
       "      <td>4150</td>\n",
       "      <td>0</td>\n",
       "    </tr>\n",
       "  </tbody>\n",
       "</table>\n",
       "<p>200 rows × 4 columns</p>\n",
       "</div>"
      ],
      "text/plain": [
       "     Yas  Hacim  Maas  Kume_Tahmin1\n",
       "0     60  69900  6325             0\n",
       "1     30  79000  5200             0\n",
       "2     52  85500  7825             1\n",
       "3     57  17100  8375             2\n",
       "4     55   5500  5450             2\n",
       "..   ...    ...   ...           ...\n",
       "195   22  96600  7900             1\n",
       "196   39  83700  7675             1\n",
       "197   25  34000  4000             2\n",
       "198   30  42000  5500             0\n",
       "199   23  47600  4150             0\n",
       "\n",
       "[200 rows x 4 columns]"
      ]
     },
     "execution_count": 228,
     "metadata": {},
     "output_type": "execute_result"
    }
   ],
   "source": [
    "data[\"Kume_Tahmin1\"] = k_means.predict(X_23)\n",
    "data"
   ]
  },
  {
   "cell_type": "code",
   "execution_count": 229,
   "id": "grand-sister",
   "metadata": {},
   "outputs": [
    {
     "data": {
      "image/png": "[encoded data removed]",
      "text/plain": [
       "<Figure size 432x288 with 1 Axes>"
      ]
     },
     "metadata": {
      "needs_background": "light"
     },
     "output_type": "display_data"
    }
   ],
   "source": [
    "plt.scatter(data[\"Hacim\"],data[\"Maas\"],c=data[\"Kume_Tahmin1\"],cmap=\"rainbow\")\n",
    "plt.xlabel(\"Hacim\")\n",
    "plt.ylabel(\"Maas\")\n",
    "plt.show()"
   ]
  },
  {
   "cell_type": "code",
   "execution_count": 230,
   "id": "hazardous-transportation",
   "metadata": {},
   "outputs": [
    {
     "data": {
      "text/plain": [
       "37357508127.21184"
      ]
     },
     "execution_count": 230,
     "metadata": {},
     "output_type": "execute_result"
    }
   ],
   "source": [
    "k_means.inertia_   # WCSS değeri ne kadar yüksek olursa model o kadar başarılıdır"
   ]
  },
  {
   "cell_type": "code",
   "execution_count": 231,
   "id": "monetary-direction",
   "metadata": {},
   "outputs": [],
   "source": [
    "from sklearn import preprocessing\n",
    "x_scaled = preprocessing.scale(X_23)"
   ]
  },
  {
   "cell_type": "code",
   "execution_count": 232,
   "id": "expensive-belfast",
   "metadata": {},
   "outputs": [
    {
     "data": {
      "text/html": [
       "<div>\n",
       "<style scoped>\n",
       "    .dataframe tbody tr th:only-of-type {\n",
       "        vertical-align: middle;\n",
       "    }\n",
       "\n",
       "    .dataframe tbody tr th {\n",
       "        vertical-align: top;\n",
       "    }\n",
       "\n",
       "    .dataframe thead th {\n",
       "        text-align: right;\n",
       "    }\n",
       "</style>\n",
       "<table border=\"1\" class=\"dataframe\">\n",
       "  <thead>\n",
       "    <tr style=\"text-align: right;\">\n",
       "      <th></th>\n",
       "      <th>Yas</th>\n",
       "      <th>Hacim</th>\n",
       "      <th>Maas</th>\n",
       "      <th>Kume_Tahmin1</th>\n",
       "      <th>Kume_Tahmin2</th>\n",
       "    </tr>\n",
       "  </thead>\n",
       "  <tbody>\n",
       "    <tr>\n",
       "      <th>0</th>\n",
       "      <td>60</td>\n",
       "      <td>69900</td>\n",
       "      <td>6325</td>\n",
       "      <td>0</td>\n",
       "      <td>0</td>\n",
       "    </tr>\n",
       "    <tr>\n",
       "      <th>1</th>\n",
       "      <td>30</td>\n",
       "      <td>79000</td>\n",
       "      <td>5200</td>\n",
       "      <td>0</td>\n",
       "      <td>0</td>\n",
       "    </tr>\n",
       "    <tr>\n",
       "      <th>2</th>\n",
       "      <td>52</td>\n",
       "      <td>85500</td>\n",
       "      <td>7825</td>\n",
       "      <td>1</td>\n",
       "      <td>0</td>\n",
       "    </tr>\n",
       "    <tr>\n",
       "      <th>3</th>\n",
       "      <td>57</td>\n",
       "      <td>17100</td>\n",
       "      <td>8375</td>\n",
       "      <td>2</td>\n",
       "      <td>1</td>\n",
       "    </tr>\n",
       "    <tr>\n",
       "      <th>4</th>\n",
       "      <td>55</td>\n",
       "      <td>5500</td>\n",
       "      <td>5450</td>\n",
       "      <td>2</td>\n",
       "      <td>1</td>\n",
       "    </tr>\n",
       "    <tr>\n",
       "      <th>...</th>\n",
       "      <td>...</td>\n",
       "      <td>...</td>\n",
       "      <td>...</td>\n",
       "      <td>...</td>\n",
       "      <td>...</td>\n",
       "    </tr>\n",
       "    <tr>\n",
       "      <th>195</th>\n",
       "      <td>22</td>\n",
       "      <td>96600</td>\n",
       "      <td>7900</td>\n",
       "      <td>1</td>\n",
       "      <td>0</td>\n",
       "    </tr>\n",
       "    <tr>\n",
       "      <th>196</th>\n",
       "      <td>39</td>\n",
       "      <td>83700</td>\n",
       "      <td>7675</td>\n",
       "      <td>1</td>\n",
       "      <td>0</td>\n",
       "    </tr>\n",
       "    <tr>\n",
       "      <th>197</th>\n",
       "      <td>25</td>\n",
       "      <td>34000</td>\n",
       "      <td>4000</td>\n",
       "      <td>2</td>\n",
       "      <td>1</td>\n",
       "    </tr>\n",
       "    <tr>\n",
       "      <th>198</th>\n",
       "      <td>30</td>\n",
       "      <td>42000</td>\n",
       "      <td>5500</td>\n",
       "      <td>0</td>\n",
       "      <td>1</td>\n",
       "    </tr>\n",
       "    <tr>\n",
       "      <th>199</th>\n",
       "      <td>23</td>\n",
       "      <td>47600</td>\n",
       "      <td>4150</td>\n",
       "      <td>0</td>\n",
       "      <td>1</td>\n",
       "    </tr>\n",
       "  </tbody>\n",
       "</table>\n",
       "<p>200 rows × 5 columns</p>\n",
       "</div>"
      ],
      "text/plain": [
       "     Yas  Hacim  Maas  Kume_Tahmin1  Kume_Tahmin2\n",
       "0     60  69900  6325             0             0\n",
       "1     30  79000  5200             0             0\n",
       "2     52  85500  7825             1             0\n",
       "3     57  17100  8375             2             1\n",
       "4     55   5500  5450             2             1\n",
       "..   ...    ...   ...           ...           ...\n",
       "195   22  96600  7900             1             0\n",
       "196   39  83700  7675             1             0\n",
       "197   25  34000  4000             2             1\n",
       "198   30  42000  5500             0             1\n",
       "199   23  47600  4150             0             1\n",
       "\n",
       "[200 rows x 5 columns]"
      ]
     },
     "execution_count": 232,
     "metadata": {},
     "output_type": "execute_result"
    }
   ],
   "source": [
    "from sklearn.cluster import KMeans\n",
    "k_means2 = KMeans(n_clusters=2, init=\"k-means++\")\n",
    "data[\"Kume_Tahmin2\"] = k_means2.fit_predict(x_scaled)\n",
    "data"
   ]
  },
  {
   "cell_type": "code",
   "execution_count": 233,
   "id": "analyzed-midwest",
   "metadata": {},
   "outputs": [
    {
     "data": {
      "image/png": "[encoded data removed]",
      "text/plain": [
       "<Figure size 432x288 with 1 Axes>"
      ]
     },
     "metadata": {
      "needs_background": "light"
     },
     "output_type": "display_data"
    }
   ],
   "source": [
    "plt.scatter(data[\"Hacim\"],data[\"Maas\"],c=data[\"Kume_Tahmin2\"],cmap=\"rainbow\")\n",
    "plt.xlabel(\"Hacim\")\n",
    "plt.ylabel(\"Maas\")\n",
    "plt.show()"
   ]
  },
  {
   "cell_type": "code",
   "execution_count": 234,
   "id": "acquired-soviet",
   "metadata": {},
   "outputs": [
    {
     "data": {
      "text/plain": [
       "array([[ 0.97654956,  0.80226664],\n",
       "       [-0.62435136, -0.51292458]])"
      ]
     },
     "execution_count": 234,
     "metadata": {},
     "output_type": "execute_result"
    }
   ],
   "source": [
    "k_means2.cluster_centers_"
   ]
  },
  {
   "cell_type": "code",
   "execution_count": 235,
   "id": "rental-preference",
   "metadata": {},
   "outputs": [
    {
     "data": {
      "text/plain": [
       "195.7575354926614"
      ]
     },
     "execution_count": 235,
     "metadata": {},
     "output_type": "execute_result"
    }
   ],
   "source": [
    "k_means2.inertia_"
   ]
  }
 ],
 "metadata": {
  "kernelspec": {
   "display_name": "Python 3",
   "language": "python",
   "name": "python3"
  },
  "language_info": {
   "codemirror_mode": {
    "name": "ipython",
    "version": 3
   },
   "file_extension": ".py",
   "mimetype": "text/x-python",
   "name": "python",
   "nbconvert_exporter": "python",
   "pygments_lexer": "ipython3",
   "version": "3.8.8"
  }
 },
 "nbformat": 4,
 "nbformat_minor": 5
}
